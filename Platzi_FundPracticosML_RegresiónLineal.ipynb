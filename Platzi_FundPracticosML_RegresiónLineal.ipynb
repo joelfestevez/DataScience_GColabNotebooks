{
  "nbformat": 4,
  "nbformat_minor": 0,
  "metadata": {
    "colab": {
      "name": "Platzi_FundPracticosML_Regresión Lineal.ipynb",
      "provenance": [],
      "authorship_tag": "ABX9TyMF9/pFGuScqaN1WNAeESAM",
      "include_colab_link": true
    },
    "kernelspec": {
      "name": "python3",
      "display_name": "Python 3"
    },
    "language_info": {
      "name": "python"
    }
  },
  "cells": [
    {
      "cell_type": "markdown",
      "metadata": {
        "id": "view-in-github",
        "colab_type": "text"
      },
      "source": [
        "<a href=\"https://colab.research.google.com/github/joelfestevez/DataScience_GColabNotebooks/blob/main/Platzi_FundPracticosML_Regresi%C3%B3nLineal.ipynb\" target=\"_parent\"><img src=\"https://colab.research.google.com/assets/colab-badge.svg\" alt=\"Open In Colab\"/></a>"
      ]
    },
    {
      "cell_type": "code",
      "execution_count": 1,
      "metadata": {
        "id": "fw6JPfyAMDzv"
      },
      "outputs": [],
      "source": [
        "import pandas as pd\n",
        "import matplotlib.pyplot as plt\n",
        "#Recuerda muy bien como meter los modelos de sklearn\n",
        "from sklearn.model_selection import train_test_split\n",
        "from sklearn.linear_model import LinearRegression"
      ]
    },
    {
      "cell_type": "code",
      "source": [
        "dataset = pd.read_csv('/content/salarios.csv')\n",
        "dataset.head(5)"
      ],
      "metadata": {
        "colab": {
          "base_uri": "https://localhost:8080/",
          "height": 206
        },
        "id": "BmfrTLYuMsuU",
        "outputId": "62e96332-5d23-4d8d-902a-d6f0d787eefb"
      },
      "execution_count": 2,
      "outputs": [
        {
          "output_type": "execute_result",
          "data": {
            "text/html": [
              "\n",
              "  <div id=\"df-1abd4fb1-6bcf-4a25-bc50-971653be5261\">\n",
              "    <div class=\"colab-df-container\">\n",
              "      <div>\n",
              "<style scoped>\n",
              "    .dataframe tbody tr th:only-of-type {\n",
              "        vertical-align: middle;\n",
              "    }\n",
              "\n",
              "    .dataframe tbody tr th {\n",
              "        vertical-align: top;\n",
              "    }\n",
              "\n",
              "    .dataframe thead th {\n",
              "        text-align: right;\n",
              "    }\n",
              "</style>\n",
              "<table border=\"1\" class=\"dataframe\">\n",
              "  <thead>\n",
              "    <tr style=\"text-align: right;\">\n",
              "      <th></th>\n",
              "      <th>Aexperiencia</th>\n",
              "      <th>Salario</th>\n",
              "    </tr>\n",
              "  </thead>\n",
              "  <tbody>\n",
              "    <tr>\n",
              "      <th>0</th>\n",
              "      <td>10.0</td>\n",
              "      <td>42500</td>\n",
              "    </tr>\n",
              "    <tr>\n",
              "      <th>1</th>\n",
              "      <td>8.0</td>\n",
              "      <td>36302</td>\n",
              "    </tr>\n",
              "    <tr>\n",
              "      <th>2</th>\n",
              "      <td>5.4</td>\n",
              "      <td>35000</td>\n",
              "    </tr>\n",
              "    <tr>\n",
              "      <th>3</th>\n",
              "      <td>2.5</td>\n",
              "      <td>18103</td>\n",
              "    </tr>\n",
              "    <tr>\n",
              "      <th>4</th>\n",
              "      <td>1.0</td>\n",
              "      <td>15000</td>\n",
              "    </tr>\n",
              "  </tbody>\n",
              "</table>\n",
              "</div>\n",
              "      <button class=\"colab-df-convert\" onclick=\"convertToInteractive('df-1abd4fb1-6bcf-4a25-bc50-971653be5261')\"\n",
              "              title=\"Convert this dataframe to an interactive table.\"\n",
              "              style=\"display:none;\">\n",
              "        \n",
              "  <svg xmlns=\"http://www.w3.org/2000/svg\" height=\"24px\"viewBox=\"0 0 24 24\"\n",
              "       width=\"24px\">\n",
              "    <path d=\"M0 0h24v24H0V0z\" fill=\"none\"/>\n",
              "    <path d=\"M18.56 5.44l.94 2.06.94-2.06 2.06-.94-2.06-.94-.94-2.06-.94 2.06-2.06.94zm-11 1L8.5 8.5l.94-2.06 2.06-.94-2.06-.94L8.5 2.5l-.94 2.06-2.06.94zm10 10l.94 2.06.94-2.06 2.06-.94-2.06-.94-.94-2.06-.94 2.06-2.06.94z\"/><path d=\"M17.41 7.96l-1.37-1.37c-.4-.4-.92-.59-1.43-.59-.52 0-1.04.2-1.43.59L10.3 9.45l-7.72 7.72c-.78.78-.78 2.05 0 2.83L4 21.41c.39.39.9.59 1.41.59.51 0 1.02-.2 1.41-.59l7.78-7.78 2.81-2.81c.8-.78.8-2.07 0-2.86zM5.41 20L4 18.59l7.72-7.72 1.47 1.35L5.41 20z\"/>\n",
              "  </svg>\n",
              "      </button>\n",
              "      \n",
              "  <style>\n",
              "    .colab-df-container {\n",
              "      display:flex;\n",
              "      flex-wrap:wrap;\n",
              "      gap: 12px;\n",
              "    }\n",
              "\n",
              "    .colab-df-convert {\n",
              "      background-color: #E8F0FE;\n",
              "      border: none;\n",
              "      border-radius: 50%;\n",
              "      cursor: pointer;\n",
              "      display: none;\n",
              "      fill: #1967D2;\n",
              "      height: 32px;\n",
              "      padding: 0 0 0 0;\n",
              "      width: 32px;\n",
              "    }\n",
              "\n",
              "    .colab-df-convert:hover {\n",
              "      background-color: #E2EBFA;\n",
              "      box-shadow: 0px 1px 2px rgba(60, 64, 67, 0.3), 0px 1px 3px 1px rgba(60, 64, 67, 0.15);\n",
              "      fill: #174EA6;\n",
              "    }\n",
              "\n",
              "    [theme=dark] .colab-df-convert {\n",
              "      background-color: #3B4455;\n",
              "      fill: #D2E3FC;\n",
              "    }\n",
              "\n",
              "    [theme=dark] .colab-df-convert:hover {\n",
              "      background-color: #434B5C;\n",
              "      box-shadow: 0px 1px 3px 1px rgba(0, 0, 0, 0.15);\n",
              "      filter: drop-shadow(0px 1px 2px rgba(0, 0, 0, 0.3));\n",
              "      fill: #FFFFFF;\n",
              "    }\n",
              "  </style>\n",
              "\n",
              "      <script>\n",
              "        const buttonEl =\n",
              "          document.querySelector('#df-1abd4fb1-6bcf-4a25-bc50-971653be5261 button.colab-df-convert');\n",
              "        buttonEl.style.display =\n",
              "          google.colab.kernel.accessAllowed ? 'block' : 'none';\n",
              "\n",
              "        async function convertToInteractive(key) {\n",
              "          const element = document.querySelector('#df-1abd4fb1-6bcf-4a25-bc50-971653be5261');\n",
              "          const dataTable =\n",
              "            await google.colab.kernel.invokeFunction('convertToInteractive',\n",
              "                                                     [key], {});\n",
              "          if (!dataTable) return;\n",
              "\n",
              "          const docLinkHtml = 'Like what you see? Visit the ' +\n",
              "            '<a target=\"_blank\" href=https://colab.research.google.com/notebooks/data_table.ipynb>data table notebook</a>'\n",
              "            + ' to learn more about interactive tables.';\n",
              "          element.innerHTML = '';\n",
              "          dataTable['output_type'] = 'display_data';\n",
              "          await google.colab.output.renderOutput(dataTable, element);\n",
              "          const docLink = document.createElement('div');\n",
              "          docLink.innerHTML = docLinkHtml;\n",
              "          element.appendChild(docLink);\n",
              "        }\n",
              "      </script>\n",
              "    </div>\n",
              "  </div>\n",
              "  "
            ],
            "text/plain": [
              "   Aexperiencia  Salario\n",
              "0          10.0    42500\n",
              "1           8.0    36302\n",
              "2           5.4    35000\n",
              "3           2.5    18103\n",
              "4           1.0    15000"
            ]
          },
          "metadata": {},
          "execution_count": 2
        }
      ]
    },
    {
      "cell_type": "code",
      "source": [
        "dataset.shape #Vamos a ver el número de datos (filas, columnas)"
      ],
      "metadata": {
        "colab": {
          "base_uri": "https://localhost:8080/"
        },
        "id": "KNouZNPxNFmI",
        "outputId": "b88def61-4f41-441c-adc6-d05b59042326"
      },
      "execution_count": 3,
      "outputs": [
        {
          "output_type": "execute_result",
          "data": {
            "text/plain": [
              "(30, 2)"
            ]
          },
          "metadata": {},
          "execution_count": 3
        }
      ]
    },
    {
      "cell_type": "code",
      "source": [
        "x = dataset.iloc[:,:-1].values \n",
        "#Como verán, lo que hizo aquí la profesora fue asignarle a la variable \n",
        "#“x” la porción de la tabla que corresponde a la variable independiente (es decir, los años de experiencia),\n",
        "y = dataset.iloc[:,1].values \n",
        "#Y asignarle a la variable “y” los datos dependientes (es decir, los salarios de los programadores)"
      ],
      "metadata": {
        "id": "pxNwNbYZNau8"
      },
      "execution_count": 4,
      "outputs": []
    },
    {
      "cell_type": "code",
      "source": [
        "X_train , X_test, Y_train, Y_test = train_test_split(x,y, test_size=0.2, random_state=0)\n",
        "#Aquí, la profesora asignó, de la variable independiente x (los años de experiencia de los programadores), \n",
        "#un 80% de los datos disponibles en la tabla original (verán que de 30 datos totales, solo tomó 24) \n",
        "#para entrenamiento (X_train).\n",
        "#Por consiguiente, asignó 20% de los datos disponibles a las pruebas que más adelante realizaremos (X_test)"
      ],
      "metadata": {
        "id": "omLtsNSmN2YV"
      },
      "execution_count": 5,
      "outputs": []
    },
    {
      "cell_type": "code",
      "source": [
        "X_train"
      ],
      "metadata": {
        "colab": {
          "base_uri": "https://localhost:8080/"
        },
        "id": "xIvF0faKyLWG",
        "outputId": "d297e759-dc85-4365-93d9-219aa9ec63dc"
      },
      "execution_count": 6,
      "outputs": [
        {
          "output_type": "execute_result",
          "data": {
            "text/plain": [
              "array([[10. ],\n",
              "       [ 7. ],\n",
              "       [ 2. ],\n",
              "       [ 5.3],\n",
              "       [ 8. ],\n",
              "       [ 3. ],\n",
              "       [ 2. ],\n",
              "       [ 2. ],\n",
              "       [ 2.1],\n",
              "       [ 5. ],\n",
              "       [ 8. ],\n",
              "       [ 1. ],\n",
              "       [ 4. ],\n",
              "       [ 1. ],\n",
              "       [ 3. ],\n",
              "       [ 2. ],\n",
              "       [10. ],\n",
              "       [ 6. ],\n",
              "       [10. ],\n",
              "       [ 2.5],\n",
              "       [10. ],\n",
              "       [ 3.4],\n",
              "       [ 5. ],\n",
              "       [ 3. ]])"
            ]
          },
          "metadata": {},
          "execution_count": 6
        }
      ]
    },
    {
      "cell_type": "code",
      "source": [
        "regressor = LinearRegression() \n",
        "regressor.fit(X_train, Y_train) #¡¡¡Así se crea un modelo BB!!!!\n",
        "# fit es la función que realiza el entrenamiento y aprendizaje\n",
        "# En este caso es para el modelo de entrenamiento, es decir el 80% de los datos están contenidos en este regressor"
      ],
      "metadata": {
        "colab": {
          "base_uri": "https://localhost:8080/"
        },
        "id": "3aRpIoZz8nUF",
        "outputId": "9ffd1223-0355-4428-a725-523c98fa8730"
      },
      "execution_count": 7,
      "outputs": [
        {
          "output_type": "execute_result",
          "data": {
            "text/plain": [
              "LinearRegression()"
            ]
          },
          "metadata": {},
          "execution_count": 7
        }
      ]
    },
    {
      "cell_type": "code",
      "source": [
        "#Vamos a mostrar lo que aprendió en TEST\n",
        "viz_train = plt\n",
        "viz_train.scatter(X_train, Y_train, color = 'blue')\n",
        "viz_train.plot(X_train, regressor.predict(X_train), color = 'black')\n",
        "viz_train.title('Salario vs Experiencia')\n",
        "viz_train.xlabel('Experiencia')\n",
        "viz_train.ylabel('Salario')\n",
        "viz_train.show()"
      ],
      "metadata": {
        "colab": {
          "base_uri": "https://localhost:8080/",
          "height": 295
        },
        "id": "PPSKKxqkqVUf",
        "outputId": "66673fdc-e029-4aec-ecee-a01abe698a6b"
      },
      "execution_count": 8,
      "outputs": [
        {
          "output_type": "display_data",
          "data": {
            "image/png": "[encoded data removed]",
            "text/plain": [
              "<Figure size 432x288 with 1 Axes>"
            ]
          },
          "metadata": {
            "needs_background": "light"
          }
        }
      ]
    },
    {
      "cell_type": "code",
      "source": [
        "#Vamos a mostrar lo que aprendió en TRAIN\n",
        "viz_train = plt\n",
        "viz_train.scatter(X_test, Y_test, color = 'red')\n",
        "viz_train.plot(X_test, regressor.predict(X_test), color = 'orange')\n",
        "viz_train.title('Salario vs Experiencia')\n",
        "viz_train.xlabel('Experiencia')\n",
        "viz_train.ylabel('Salario')\n",
        "viz_train.show()"
      ],
      "metadata": {
        "colab": {
          "base_uri": "https://localhost:8080/",
          "height": 295
        },
        "id": "ddo0qvMQrabv",
        "outputId": "1868b1c0-39b8-44d8-8d0a-6592a191c996"
      },
      "execution_count": 9,
      "outputs": [
        {
          "output_type": "display_data",
          "data": {
            "image/png": "[encoded data removed]",
            "text/plain": [
              "<Figure size 432x288 with 1 Axes>"
            ]
          },
          "metadata": {
            "needs_background": "light"
          }
        }
      ]
    },
    {
      "cell_type": "code",
      "source": [
        "regressor.score(X_test, Y_test)\n",
        "#Se desea que el score sea cercano al 100% y esto se logra metiendo más datos al modelo"
      ],
      "metadata": {
        "colab": {
          "base_uri": "https://localhost:8080/"
        },
        "id": "KgttlgFhsK9v",
        "outputId": "9196ec96-b3fa-47c6-aa71-5a253757749c"
      },
      "execution_count": 10,
      "outputs": [
        {
          "output_type": "execute_result",
          "data": {
            "text/plain": [
              "0.7862437374732997"
            ]
          },
          "metadata": {},
          "execution_count": 10
        }
      ]
    }
  ]
}